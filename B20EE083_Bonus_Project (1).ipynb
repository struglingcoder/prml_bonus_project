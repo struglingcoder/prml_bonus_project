{
  "nbformat": 4,
  "nbformat_minor": 0,
  "metadata": {
    "colab": {
      "name": "B20EE083_Bonus_Project.ipynb",
      "provenance": [],
      "collapsed_sections": []
    },
    "kernelspec": {
      "name": "python3",
      "display_name": "Python 3"
    },
    "language_info": {
      "name": "python"
    }
  },
  "cells": [
    {
      "cell_type": "code",
      "execution_count": null,
      "metadata": {
        "id": "-A-0gM2KEowI"
      },
      "outputs": [],
      "source": [
        "import pandas as pd\n",
        "import seaborn as sns\n",
        "import numpy as np\n",
        "from sklearn import preprocessing\n",
        "from sklearn.model_selection import train_test_split\n",
        "from sklearn.tree import DecisionTreeRegressor\n",
        "from sklearn.metrics import accuracy_score\n",
        "from sklearn.metrics import mean_squared_error\n",
        "from matplotlib import pyplot as plt \n"
      ]
    },
    {
      "cell_type": "code",
      "source": [
        "df = pd.read_csv(\"/content/bitcoin_price_bitcoin_price.2013Apr-2017Aug.csv\")"
      ],
      "metadata": {
        "id": "3JcXVW8DEx6S"
      },
      "execution_count": null,
      "outputs": []
    },
    {
      "cell_type": "code",
      "source": [
        "df.describe()"
      ],
      "metadata": {
        "colab": {
          "base_uri": "https://localhost:8080/",
          "height": 300
        },
        "id": "verrbAJv6bi6",
        "outputId": "ebe37eca-0e19-449f-a788-e0b23ad0d8af"
      },
      "execution_count": null,
      "outputs": [
        {
          "output_type": "execute_result",
          "data": {
            "text/plain": [
              "              Open         High          Low        Close\n",
              "count  1556.000000  1556.000000  1556.000000  1556.000000\n",
              "mean    582.625328   597.992847   567.851446   584.239396\n",
              "std     523.137312   542.992855   505.877401   525.904442\n",
              "min      68.500000    74.560000    65.530000    68.430000\n",
              "25%     254.287500   260.327500   248.835000   254.320000\n",
              "50%     438.600000   447.560000   430.570000   438.855000\n",
              "75%     662.437500   674.525000   646.735000   663.402500\n",
              "max    2953.220000  2999.910000  2840.530000  2958.110000"
            ],
            "text/html": [
              "\n",
              "  <div id=\"df-d64a288a-3040-4c23-8159-b8cc0e5977e3\">\n",
              "    <div class=\"colab-df-container\">\n",
              "      <div>\n",
              "<style scoped>\n",
              "    .dataframe tbody tr th:only-of-type {\n",
              "        vertical-align: middle;\n",
              "    }\n",
              "\n",
              "    .dataframe tbody tr th {\n",
              "        vertical-align: top;\n",
              "    }\n",
              "\n",
              "    .dataframe thead th {\n",
              "        text-align: right;\n",
              "    }\n",
              "</style>\n",
              "<table border=\"1\" class=\"dataframe\">\n",
              "  <thead>\n",
              "    <tr style=\"text-align: right;\">\n",
              "      <th></th>\n",
              "      <th>Open</th>\n",
              "      <th>High</th>\n",
              "      <th>Low</th>\n",
              "      <th>Close</th>\n",
              "    </tr>\n",
              "  </thead>\n",
              "  <tbody>\n",
              "    <tr>\n",
              "      <th>count</th>\n",
              "      <td>1556.000000</td>\n",
              "      <td>1556.000000</td>\n",
              "      <td>1556.000000</td>\n",
              "      <td>1556.000000</td>\n",
              "    </tr>\n",
              "    <tr>\n",
              "      <th>mean</th>\n",
              "      <td>582.625328</td>\n",
              "      <td>597.992847</td>\n",
              "      <td>567.851446</td>\n",
              "      <td>584.239396</td>\n",
              "    </tr>\n",
              "    <tr>\n",
              "      <th>std</th>\n",
              "      <td>523.137312</td>\n",
              "      <td>542.992855</td>\n",
              "      <td>505.877401</td>\n",
              "      <td>525.904442</td>\n",
              "    </tr>\n",
              "    <tr>\n",
              "      <th>min</th>\n",
              "      <td>68.500000</td>\n",
              "      <td>74.560000</td>\n",
              "      <td>65.530000</td>\n",
              "      <td>68.430000</td>\n",
              "    </tr>\n",
              "    <tr>\n",
              "      <th>25%</th>\n",
              "      <td>254.287500</td>\n",
              "      <td>260.327500</td>\n",
              "      <td>248.835000</td>\n",
              "      <td>254.320000</td>\n",
              "    </tr>\n",
              "    <tr>\n",
              "      <th>50%</th>\n",
              "      <td>438.600000</td>\n",
              "      <td>447.560000</td>\n",
              "      <td>430.570000</td>\n",
              "      <td>438.855000</td>\n",
              "    </tr>\n",
              "    <tr>\n",
              "      <th>75%</th>\n",
              "      <td>662.437500</td>\n",
              "      <td>674.525000</td>\n",
              "      <td>646.735000</td>\n",
              "      <td>663.402500</td>\n",
              "    </tr>\n",
              "    <tr>\n",
              "      <th>max</th>\n",
              "      <td>2953.220000</td>\n",
              "      <td>2999.910000</td>\n",
              "      <td>2840.530000</td>\n",
              "      <td>2958.110000</td>\n",
              "    </tr>\n",
              "  </tbody>\n",
              "</table>\n",
              "</div>\n",
              "      <button class=\"colab-df-convert\" onclick=\"convertToInteractive('df-d64a288a-3040-4c23-8159-b8cc0e5977e3')\"\n",
              "              title=\"Convert this dataframe to an interactive table.\"\n",
              "              style=\"display:none;\">\n",
              "        \n",
              "  <svg xmlns=\"http://www.w3.org/2000/svg\" height=\"24px\"viewBox=\"0 0 24 24\"\n",
              "       width=\"24px\">\n",
              "    <path d=\"M0 0h24v24H0V0z\" fill=\"none\"/>\n",
              "    <path d=\"M18.56 5.44l.94 2.06.94-2.06 2.06-.94-2.06-.94-.94-2.06-.94 2.06-2.06.94zm-11 1L8.5 8.5l.94-2.06 2.06-.94-2.06-.94L8.5 2.5l-.94 2.06-2.06.94zm10 10l.94 2.06.94-2.06 2.06-.94-2.06-.94-.94-2.06-.94 2.06-2.06.94z\"/><path d=\"M17.41 7.96l-1.37-1.37c-.4-.4-.92-.59-1.43-.59-.52 0-1.04.2-1.43.59L10.3 9.45l-7.72 7.72c-.78.78-.78 2.05 0 2.83L4 21.41c.39.39.9.59 1.41.59.51 0 1.02-.2 1.41-.59l7.78-7.78 2.81-2.81c.8-.78.8-2.07 0-2.86zM5.41 20L4 18.59l7.72-7.72 1.47 1.35L5.41 20z\"/>\n",
              "  </svg>\n",
              "      </button>\n",
              "      \n",
              "  <style>\n",
              "    .colab-df-container {\n",
              "      display:flex;\n",
              "      flex-wrap:wrap;\n",
              "      gap: 12px;\n",
              "    }\n",
              "\n",
              "    .colab-df-convert {\n",
              "      background-color: #E8F0FE;\n",
              "      border: none;\n",
              "      border-radius: 50%;\n",
              "      cursor: pointer;\n",
              "      display: none;\n",
              "      fill: #1967D2;\n",
              "      height: 32px;\n",
              "      padding: 0 0 0 0;\n",
              "      width: 32px;\n",
              "    }\n",
              "\n",
              "    .colab-df-convert:hover {\n",
              "      background-color: #E2EBFA;\n",
              "      box-shadow: 0px 1px 2px rgba(60, 64, 67, 0.3), 0px 1px 3px 1px rgba(60, 64, 67, 0.15);\n",
              "      fill: #174EA6;\n",
              "    }\n",
              "\n",
              "    [theme=dark] .colab-df-convert {\n",
              "      background-color: #3B4455;\n",
              "      fill: #D2E3FC;\n",
              "    }\n",
              "\n",
              "    [theme=dark] .colab-df-convert:hover {\n",
              "      background-color: #434B5C;\n",
              "      box-shadow: 0px 1px 3px 1px rgba(0, 0, 0, 0.15);\n",
              "      filter: drop-shadow(0px 1px 2px rgba(0, 0, 0, 0.3));\n",
              "      fill: #FFFFFF;\n",
              "    }\n",
              "  </style>\n",
              "\n",
              "      <script>\n",
              "        const buttonEl =\n",
              "          document.querySelector('#df-d64a288a-3040-4c23-8159-b8cc0e5977e3 button.colab-df-convert');\n",
              "        buttonEl.style.display =\n",
              "          google.colab.kernel.accessAllowed ? 'block' : 'none';\n",
              "\n",
              "        async function convertToInteractive(key) {\n",
              "          const element = document.querySelector('#df-d64a288a-3040-4c23-8159-b8cc0e5977e3');\n",
              "          const dataTable =\n",
              "            await google.colab.kernel.invokeFunction('convertToInteractive',\n",
              "                                                     [key], {});\n",
              "          if (!dataTable) return;\n",
              "\n",
              "          const docLinkHtml = 'Like what you see? Visit the ' +\n",
              "            '<a target=\"_blank\" href=https://colab.research.google.com/notebooks/data_table.ipynb>data table notebook</a>'\n",
              "            + ' to learn more about interactive tables.';\n",
              "          element.innerHTML = '';\n",
              "          dataTable['output_type'] = 'display_data';\n",
              "          await google.colab.output.renderOutput(dataTable, element);\n",
              "          const docLink = document.createElement('div');\n",
              "          docLink.innerHTML = docLinkHtml;\n",
              "          element.appendChild(docLink);\n",
              "        }\n",
              "      </script>\n",
              "    </div>\n",
              "  </div>\n",
              "  "
            ]
          },
          "metadata": {},
          "execution_count": 78
        }
      ]
    },
    {
      "cell_type": "code",
      "source": [
        "df = df.drop(['Date'], axis = 1)\n",
        "df"
      ],
      "metadata": {
        "colab": {
          "base_uri": "https://localhost:8080/",
          "height": 424
        },
        "id": "hc5waTRPLwFN",
        "outputId": "9a0fe7a0-e5e6-4db3-e4da-8b8bfbe004a7"
      },
      "execution_count": null,
      "outputs": [
        {
          "output_type": "execute_result",
          "data": {
            "text/plain": [
              "         Open     High      Low    Close          Volume       Market Cap\n",
              "0     2763.24  2889.62  2720.61  2875.34    86,05,75,000  45,53,58,00,000\n",
              "1     2724.39  2758.53  2644.85  2757.18    70,59,43,000  44,89,07,00,000\n",
              "2     2807.02  2808.76  2692.80  2726.45    80,37,46,000  46,24,67,00,000\n",
              "3     2679.73  2897.45  2679.73  2809.01  1,38,01,00,000  44,14,44,00,000\n",
              "4     2538.71  2693.32  2529.34  2671.78    78,91,04,000  41,81,65,00,000\n",
              "...       ...      ...      ...      ...             ...              ...\n",
              "1551   116.38   125.60    92.28   105.21               -   1,29,21,90,000\n",
              "1552   139.00   139.89   107.72   116.99               -   1,54,28,20,000\n",
              "1553   144.00   146.93   134.05   139.00               -   1,59,77,80,000\n",
              "1554   134.44   147.49   134.00   144.54               -   1,49,11,60,000\n",
              "1555   135.30   135.98   132.10   134.21               -   1,50,05,20,000\n",
              "\n",
              "[1556 rows x 6 columns]"
            ],
            "text/html": [
              "\n",
              "  <div id=\"df-55d027be-1e9e-430f-ac21-bd73ffade16b\">\n",
              "    <div class=\"colab-df-container\">\n",
              "      <div>\n",
              "<style scoped>\n",
              "    .dataframe tbody tr th:only-of-type {\n",
              "        vertical-align: middle;\n",
              "    }\n",
              "\n",
              "    .dataframe tbody tr th {\n",
              "        vertical-align: top;\n",
              "    }\n",
              "\n",
              "    .dataframe thead th {\n",
              "        text-align: right;\n",
              "    }\n",
              "</style>\n",
              "<table border=\"1\" class=\"dataframe\">\n",
              "  <thead>\n",
              "    <tr style=\"text-align: right;\">\n",
              "      <th></th>\n",
              "      <th>Open</th>\n",
              "      <th>High</th>\n",
              "      <th>Low</th>\n",
              "      <th>Close</th>\n",
              "      <th>Volume</th>\n",
              "      <th>Market Cap</th>\n",
              "    </tr>\n",
              "  </thead>\n",
              "  <tbody>\n",
              "    <tr>\n",
              "      <th>0</th>\n",
              "      <td>2763.24</td>\n",
              "      <td>2889.62</td>\n",
              "      <td>2720.61</td>\n",
              "      <td>2875.34</td>\n",
              "      <td>86,05,75,000</td>\n",
              "      <td>45,53,58,00,000</td>\n",
              "    </tr>\n",
              "    <tr>\n",
              "      <th>1</th>\n",
              "      <td>2724.39</td>\n",
              "      <td>2758.53</td>\n",
              "      <td>2644.85</td>\n",
              "      <td>2757.18</td>\n",
              "      <td>70,59,43,000</td>\n",
              "      <td>44,89,07,00,000</td>\n",
              "    </tr>\n",
              "    <tr>\n",
              "      <th>2</th>\n",
              "      <td>2807.02</td>\n",
              "      <td>2808.76</td>\n",
              "      <td>2692.80</td>\n",
              "      <td>2726.45</td>\n",
              "      <td>80,37,46,000</td>\n",
              "      <td>46,24,67,00,000</td>\n",
              "    </tr>\n",
              "    <tr>\n",
              "      <th>3</th>\n",
              "      <td>2679.73</td>\n",
              "      <td>2897.45</td>\n",
              "      <td>2679.73</td>\n",
              "      <td>2809.01</td>\n",
              "      <td>1,38,01,00,000</td>\n",
              "      <td>44,14,44,00,000</td>\n",
              "    </tr>\n",
              "    <tr>\n",
              "      <th>4</th>\n",
              "      <td>2538.71</td>\n",
              "      <td>2693.32</td>\n",
              "      <td>2529.34</td>\n",
              "      <td>2671.78</td>\n",
              "      <td>78,91,04,000</td>\n",
              "      <td>41,81,65,00,000</td>\n",
              "    </tr>\n",
              "    <tr>\n",
              "      <th>...</th>\n",
              "      <td>...</td>\n",
              "      <td>...</td>\n",
              "      <td>...</td>\n",
              "      <td>...</td>\n",
              "      <td>...</td>\n",
              "      <td>...</td>\n",
              "    </tr>\n",
              "    <tr>\n",
              "      <th>1551</th>\n",
              "      <td>116.38</td>\n",
              "      <td>125.60</td>\n",
              "      <td>92.28</td>\n",
              "      <td>105.21</td>\n",
              "      <td>-</td>\n",
              "      <td>1,29,21,90,000</td>\n",
              "    </tr>\n",
              "    <tr>\n",
              "      <th>1552</th>\n",
              "      <td>139.00</td>\n",
              "      <td>139.89</td>\n",
              "      <td>107.72</td>\n",
              "      <td>116.99</td>\n",
              "      <td>-</td>\n",
              "      <td>1,54,28,20,000</td>\n",
              "    </tr>\n",
              "    <tr>\n",
              "      <th>1553</th>\n",
              "      <td>144.00</td>\n",
              "      <td>146.93</td>\n",
              "      <td>134.05</td>\n",
              "      <td>139.00</td>\n",
              "      <td>-</td>\n",
              "      <td>1,59,77,80,000</td>\n",
              "    </tr>\n",
              "    <tr>\n",
              "      <th>1554</th>\n",
              "      <td>134.44</td>\n",
              "      <td>147.49</td>\n",
              "      <td>134.00</td>\n",
              "      <td>144.54</td>\n",
              "      <td>-</td>\n",
              "      <td>1,49,11,60,000</td>\n",
              "    </tr>\n",
              "    <tr>\n",
              "      <th>1555</th>\n",
              "      <td>135.30</td>\n",
              "      <td>135.98</td>\n",
              "      <td>132.10</td>\n",
              "      <td>134.21</td>\n",
              "      <td>-</td>\n",
              "      <td>1,50,05,20,000</td>\n",
              "    </tr>\n",
              "  </tbody>\n",
              "</table>\n",
              "<p>1556 rows × 6 columns</p>\n",
              "</div>\n",
              "      <button class=\"colab-df-convert\" onclick=\"convertToInteractive('df-55d027be-1e9e-430f-ac21-bd73ffade16b')\"\n",
              "              title=\"Convert this dataframe to an interactive table.\"\n",
              "              style=\"display:none;\">\n",
              "        \n",
              "  <svg xmlns=\"http://www.w3.org/2000/svg\" height=\"24px\"viewBox=\"0 0 24 24\"\n",
              "       width=\"24px\">\n",
              "    <path d=\"M0 0h24v24H0V0z\" fill=\"none\"/>\n",
              "    <path d=\"M18.56 5.44l.94 2.06.94-2.06 2.06-.94-2.06-.94-.94-2.06-.94 2.06-2.06.94zm-11 1L8.5 8.5l.94-2.06 2.06-.94-2.06-.94L8.5 2.5l-.94 2.06-2.06.94zm10 10l.94 2.06.94-2.06 2.06-.94-2.06-.94-.94-2.06-.94 2.06-2.06.94z\"/><path d=\"M17.41 7.96l-1.37-1.37c-.4-.4-.92-.59-1.43-.59-.52 0-1.04.2-1.43.59L10.3 9.45l-7.72 7.72c-.78.78-.78 2.05 0 2.83L4 21.41c.39.39.9.59 1.41.59.51 0 1.02-.2 1.41-.59l7.78-7.78 2.81-2.81c.8-.78.8-2.07 0-2.86zM5.41 20L4 18.59l7.72-7.72 1.47 1.35L5.41 20z\"/>\n",
              "  </svg>\n",
              "      </button>\n",
              "      \n",
              "  <style>\n",
              "    .colab-df-container {\n",
              "      display:flex;\n",
              "      flex-wrap:wrap;\n",
              "      gap: 12px;\n",
              "    }\n",
              "\n",
              "    .colab-df-convert {\n",
              "      background-color: #E8F0FE;\n",
              "      border: none;\n",
              "      border-radius: 50%;\n",
              "      cursor: pointer;\n",
              "      display: none;\n",
              "      fill: #1967D2;\n",
              "      height: 32px;\n",
              "      padding: 0 0 0 0;\n",
              "      width: 32px;\n",
              "    }\n",
              "\n",
              "    .colab-df-convert:hover {\n",
              "      background-color: #E2EBFA;\n",
              "      box-shadow: 0px 1px 2px rgba(60, 64, 67, 0.3), 0px 1px 3px 1px rgba(60, 64, 67, 0.15);\n",
              "      fill: #174EA6;\n",
              "    }\n",
              "\n",
              "    [theme=dark] .colab-df-convert {\n",
              "      background-color: #3B4455;\n",
              "      fill: #D2E3FC;\n",
              "    }\n",
              "\n",
              "    [theme=dark] .colab-df-convert:hover {\n",
              "      background-color: #434B5C;\n",
              "      box-shadow: 0px 1px 3px 1px rgba(0, 0, 0, 0.15);\n",
              "      filter: drop-shadow(0px 1px 2px rgba(0, 0, 0, 0.3));\n",
              "      fill: #FFFFFF;\n",
              "    }\n",
              "  </style>\n",
              "\n",
              "      <script>\n",
              "        const buttonEl =\n",
              "          document.querySelector('#df-55d027be-1e9e-430f-ac21-bd73ffade16b button.colab-df-convert');\n",
              "        buttonEl.style.display =\n",
              "          google.colab.kernel.accessAllowed ? 'block' : 'none';\n",
              "\n",
              "        async function convertToInteractive(key) {\n",
              "          const element = document.querySelector('#df-55d027be-1e9e-430f-ac21-bd73ffade16b');\n",
              "          const dataTable =\n",
              "            await google.colab.kernel.invokeFunction('convertToInteractive',\n",
              "                                                     [key], {});\n",
              "          if (!dataTable) return;\n",
              "\n",
              "          const docLinkHtml = 'Like what you see? Visit the ' +\n",
              "            '<a target=\"_blank\" href=https://colab.research.google.com/notebooks/data_table.ipynb>data table notebook</a>'\n",
              "            + ' to learn more about interactive tables.';\n",
              "          element.innerHTML = '';\n",
              "          dataTable['output_type'] = 'display_data';\n",
              "          await google.colab.output.renderOutput(dataTable, element);\n",
              "          const docLink = document.createElement('div');\n",
              "          docLink.innerHTML = docLinkHtml;\n",
              "          element.appendChild(docLink);\n",
              "        }\n",
              "      </script>\n",
              "    </div>\n",
              "  </div>\n",
              "  "
            ]
          },
          "metadata": {},
          "execution_count": 79
        }
      ]
    },
    {
      "cell_type": "code",
      "source": [
        "df = df.drop(df.index[1313:1557])"
      ],
      "metadata": {
        "id": "z6J19HjSbsQP"
      },
      "execution_count": null,
      "outputs": []
    },
    {
      "cell_type": "code",
      "source": [
        "df = pd.DataFrame(df)"
      ],
      "metadata": {
        "id": "5HKIMpVEpLpD"
      },
      "execution_count": null,
      "outputs": []
    },
    {
      "cell_type": "code",
      "source": [
        "df['Volume'] = df['Volume'].str.replace(',', '').astype(int)"
      ],
      "metadata": {
        "id": "Q3hfz6MelD8E"
      },
      "execution_count": null,
      "outputs": []
    },
    {
      "cell_type": "code",
      "source": [
        "df['Market Cap'] = df['Market Cap'].str.replace(',', '').astype(int)"
      ],
      "metadata": {
        "id": "GWowyZb0mMeD"
      },
      "execution_count": null,
      "outputs": []
    },
    {
      "cell_type": "code",
      "source": [
        "f,ax = plt.subplots(figsize=(12,8))\n",
        "sns.heatmap(df.corr(), cmap=\"PuBu\", annot=True, linewidths=0.5, fmt= '.2f',ax=ax)\n",
        "plt.show()"
      ],
      "metadata": {
        "colab": {
          "base_uri": "https://localhost:8080/",
          "height": 487
        },
        "id": "sMbADw7K6oVa",
        "outputId": "0855a292-f2ea-4979-a29a-c1a702c09aaf"
      },
      "execution_count": null,
      "outputs": [
        {
          "output_type": "display_data",
          "data": {
            "text/plain": [
              "<Figure size 864x576 with 2 Axes>"
            ],
            "image/png": "[encoded data removed]"
          },
          "metadata": {
            "needs_background": "light"
          }
        }
      ]
    },
    {
      "cell_type": "code",
      "source": [
        "df = preprocessing.scale(df)\n",
        "df"
      ],
      "metadata": {
        "colab": {
          "base_uri": "https://localhost:8080/"
        },
        "id": "MiOOcLfd0ydM",
        "outputId": "f917cbdc-36e8-41e3-e431-0754ba504e94"
      },
      "execution_count": null,
      "outputs": [
        {
          "output_type": "stream",
          "name": "stderr",
          "text": [
            "/usr/local/lib/python3.7/dist-packages/sklearn/preprocessing/_data.py:236: UserWarning: Numerical issues were encountered when centering the data and might not be solved. Dataset may contain too large values. You may need to prescale your features.\n",
            "  \"Numerical issues were encountered \"\n"
          ]
        },
        {
          "output_type": "execute_result",
          "data": {
            "text/plain": [
              "array([[ 3.96033495,  4.00947518,  4.0434646 ,  4.1427122 ,  2.1976107 ,\n",
              "         3.98663196],\n",
              "       [ 3.88769614,  3.77366608,  3.89690645,  3.92308346,  1.72060928,\n",
              "         3.91473493],\n",
              "       [ 4.04219151,  3.8640215 ,  3.98966599,  3.86596437,  2.02230731,\n",
              "         4.06586245],\n",
              "       ...,\n",
              "       [ 0.15508941,  0.1581544 ,  0.16251729,  0.18305651, -0.39840486,\n",
              "        -0.09951737],\n",
              "       [ 0.17365578,  0.15536621,  0.14493264,  0.151049  , -0.35677767,\n",
              "        -0.0863383 ],\n",
              "       [ 0.22095982,  0.21014069,  0.16089231,  0.16450628, -0.31249019,\n",
              "        -0.05237696]])"
            ]
          },
          "metadata": {},
          "execution_count": 85
        }
      ]
    },
    {
      "cell_type": "code",
      "source": [
        "df = pd.DataFrame(df)\n",
        "df"
      ],
      "metadata": {
        "colab": {
          "base_uri": "https://localhost:8080/",
          "height": 424
        },
        "id": "HBPBuFCGsgtI",
        "outputId": "5088d06f-d9c1-42c6-cc6e-deab6eed8d1e"
      },
      "execution_count": null,
      "outputs": [
        {
          "output_type": "execute_result",
          "data": {
            "text/plain": [
              "             0         1         2         3         4         5\n",
              "0     3.960335  4.009475  4.043465  4.142712  2.197611  3.986632\n",
              "1     3.887696  3.773666  3.896906  3.923083  1.720609  3.914735\n",
              "2     4.042192  3.864021  3.989666  3.865964  2.022307  4.065862\n",
              "3     3.804194  4.023560  3.964382  4.019422  3.800217  3.831559\n",
              "4     3.540526  3.656364  3.673452  3.764347  1.977140  3.572112\n",
              "...        ...       ...       ...       ...       ...       ...\n",
              "1308  0.215425  0.179686  0.208423  0.199711 -0.392587 -0.055423\n",
              "1309  0.179957  0.190515  0.212428  0.203651 -0.393172 -0.081195\n",
              "1310  0.155089  0.158154  0.162517  0.183057 -0.398405 -0.099517\n",
              "1311  0.173656  0.155366  0.144933  0.151049 -0.356778 -0.086338\n",
              "1312  0.220960  0.210141  0.160892  0.164506 -0.312490 -0.052377\n",
              "\n",
              "[1313 rows x 6 columns]"
            ],
            "text/html": [
              "\n",
              "  <div id=\"df-573eaf1e-d305-4915-ae8b-37038b5355ce\">\n",
              "    <div class=\"colab-df-container\">\n",
              "      <div>\n",
              "<style scoped>\n",
              "    .dataframe tbody tr th:only-of-type {\n",
              "        vertical-align: middle;\n",
              "    }\n",
              "\n",
              "    .dataframe tbody tr th {\n",
              "        vertical-align: top;\n",
              "    }\n",
              "\n",
              "    .dataframe thead th {\n",
              "        text-align: right;\n",
              "    }\n",
              "</style>\n",
              "<table border=\"1\" class=\"dataframe\">\n",
              "  <thead>\n",
              "    <tr style=\"text-align: right;\">\n",
              "      <th></th>\n",
              "      <th>0</th>\n",
              "      <th>1</th>\n",
              "      <th>2</th>\n",
              "      <th>3</th>\n",
              "      <th>4</th>\n",
              "      <th>5</th>\n",
              "    </tr>\n",
              "  </thead>\n",
              "  <tbody>\n",
              "    <tr>\n",
              "      <th>0</th>\n",
              "      <td>3.960335</td>\n",
              "      <td>4.009475</td>\n",
              "      <td>4.043465</td>\n",
              "      <td>4.142712</td>\n",
              "      <td>2.197611</td>\n",
              "      <td>3.986632</td>\n",
              "    </tr>\n",
              "    <tr>\n",
              "      <th>1</th>\n",
              "      <td>3.887696</td>\n",
              "      <td>3.773666</td>\n",
              "      <td>3.896906</td>\n",
              "      <td>3.923083</td>\n",
              "      <td>1.720609</td>\n",
              "      <td>3.914735</td>\n",
              "    </tr>\n",
              "    <tr>\n",
              "      <th>2</th>\n",
              "      <td>4.042192</td>\n",
              "      <td>3.864021</td>\n",
              "      <td>3.989666</td>\n",
              "      <td>3.865964</td>\n",
              "      <td>2.022307</td>\n",
              "      <td>4.065862</td>\n",
              "    </tr>\n",
              "    <tr>\n",
              "      <th>3</th>\n",
              "      <td>3.804194</td>\n",
              "      <td>4.023560</td>\n",
              "      <td>3.964382</td>\n",
              "      <td>4.019422</td>\n",
              "      <td>3.800217</td>\n",
              "      <td>3.831559</td>\n",
              "    </tr>\n",
              "    <tr>\n",
              "      <th>4</th>\n",
              "      <td>3.540526</td>\n",
              "      <td>3.656364</td>\n",
              "      <td>3.673452</td>\n",
              "      <td>3.764347</td>\n",
              "      <td>1.977140</td>\n",
              "      <td>3.572112</td>\n",
              "    </tr>\n",
              "    <tr>\n",
              "      <th>...</th>\n",
              "      <td>...</td>\n",
              "      <td>...</td>\n",
              "      <td>...</td>\n",
              "      <td>...</td>\n",
              "      <td>...</td>\n",
              "      <td>...</td>\n",
              "    </tr>\n",
              "    <tr>\n",
              "      <th>1308</th>\n",
              "      <td>0.215425</td>\n",
              "      <td>0.179686</td>\n",
              "      <td>0.208423</td>\n",
              "      <td>0.199711</td>\n",
              "      <td>-0.392587</td>\n",
              "      <td>-0.055423</td>\n",
              "    </tr>\n",
              "    <tr>\n",
              "      <th>1309</th>\n",
              "      <td>0.179957</td>\n",
              "      <td>0.190515</td>\n",
              "      <td>0.212428</td>\n",
              "      <td>0.203651</td>\n",
              "      <td>-0.393172</td>\n",
              "      <td>-0.081195</td>\n",
              "    </tr>\n",
              "    <tr>\n",
              "      <th>1310</th>\n",
              "      <td>0.155089</td>\n",
              "      <td>0.158154</td>\n",
              "      <td>0.162517</td>\n",
              "      <td>0.183057</td>\n",
              "      <td>-0.398405</td>\n",
              "      <td>-0.099517</td>\n",
              "    </tr>\n",
              "    <tr>\n",
              "      <th>1311</th>\n",
              "      <td>0.173656</td>\n",
              "      <td>0.155366</td>\n",
              "      <td>0.144933</td>\n",
              "      <td>0.151049</td>\n",
              "      <td>-0.356778</td>\n",
              "      <td>-0.086338</td>\n",
              "    </tr>\n",
              "    <tr>\n",
              "      <th>1312</th>\n",
              "      <td>0.220960</td>\n",
              "      <td>0.210141</td>\n",
              "      <td>0.160892</td>\n",
              "      <td>0.164506</td>\n",
              "      <td>-0.312490</td>\n",
              "      <td>-0.052377</td>\n",
              "    </tr>\n",
              "  </tbody>\n",
              "</table>\n",
              "<p>1313 rows × 6 columns</p>\n",
              "</div>\n",
              "      <button class=\"colab-df-convert\" onclick=\"convertToInteractive('df-573eaf1e-d305-4915-ae8b-37038b5355ce')\"\n",
              "              title=\"Convert this dataframe to an interactive table.\"\n",
              "              style=\"display:none;\">\n",
              "        \n",
              "  <svg xmlns=\"http://www.w3.org/2000/svg\" height=\"24px\"viewBox=\"0 0 24 24\"\n",
              "       width=\"24px\">\n",
              "    <path d=\"M0 0h24v24H0V0z\" fill=\"none\"/>\n",
              "    <path d=\"M18.56 5.44l.94 2.06.94-2.06 2.06-.94-2.06-.94-.94-2.06-.94 2.06-2.06.94zm-11 1L8.5 8.5l.94-2.06 2.06-.94-2.06-.94L8.5 2.5l-.94 2.06-2.06.94zm10 10l.94 2.06.94-2.06 2.06-.94-2.06-.94-.94-2.06-.94 2.06-2.06.94z\"/><path d=\"M17.41 7.96l-1.37-1.37c-.4-.4-.92-.59-1.43-.59-.52 0-1.04.2-1.43.59L10.3 9.45l-7.72 7.72c-.78.78-.78 2.05 0 2.83L4 21.41c.39.39.9.59 1.41.59.51 0 1.02-.2 1.41-.59l7.78-7.78 2.81-2.81c.8-.78.8-2.07 0-2.86zM5.41 20L4 18.59l7.72-7.72 1.47 1.35L5.41 20z\"/>\n",
              "  </svg>\n",
              "      </button>\n",
              "      \n",
              "  <style>\n",
              "    .colab-df-container {\n",
              "      display:flex;\n",
              "      flex-wrap:wrap;\n",
              "      gap: 12px;\n",
              "    }\n",
              "\n",
              "    .colab-df-convert {\n",
              "      background-color: #E8F0FE;\n",
              "      border: none;\n",
              "      border-radius: 50%;\n",
              "      cursor: pointer;\n",
              "      display: none;\n",
              "      fill: #1967D2;\n",
              "      height: 32px;\n",
              "      padding: 0 0 0 0;\n",
              "      width: 32px;\n",
              "    }\n",
              "\n",
              "    .colab-df-convert:hover {\n",
              "      background-color: #E2EBFA;\n",
              "      box-shadow: 0px 1px 2px rgba(60, 64, 67, 0.3), 0px 1px 3px 1px rgba(60, 64, 67, 0.15);\n",
              "      fill: #174EA6;\n",
              "    }\n",
              "\n",
              "    [theme=dark] .colab-df-convert {\n",
              "      background-color: #3B4455;\n",
              "      fill: #D2E3FC;\n",
              "    }\n",
              "\n",
              "    [theme=dark] .colab-df-convert:hover {\n",
              "      background-color: #434B5C;\n",
              "      box-shadow: 0px 1px 3px 1px rgba(0, 0, 0, 0.15);\n",
              "      filter: drop-shadow(0px 1px 2px rgba(0, 0, 0, 0.3));\n",
              "      fill: #FFFFFF;\n",
              "    }\n",
              "  </style>\n",
              "\n",
              "      <script>\n",
              "        const buttonEl =\n",
              "          document.querySelector('#df-573eaf1e-d305-4915-ae8b-37038b5355ce button.colab-df-convert');\n",
              "        buttonEl.style.display =\n",
              "          google.colab.kernel.accessAllowed ? 'block' : 'none';\n",
              "\n",
              "        async function convertToInteractive(key) {\n",
              "          const element = document.querySelector('#df-573eaf1e-d305-4915-ae8b-37038b5355ce');\n",
              "          const dataTable =\n",
              "            await google.colab.kernel.invokeFunction('convertToInteractive',\n",
              "                                                     [key], {});\n",
              "          if (!dataTable) return;\n",
              "\n",
              "          const docLinkHtml = 'Like what you see? Visit the ' +\n",
              "            '<a target=\"_blank\" href=https://colab.research.google.com/notebooks/data_table.ipynb>data table notebook</a>'\n",
              "            + ' to learn more about interactive tables.';\n",
              "          element.innerHTML = '';\n",
              "          dataTable['output_type'] = 'display_data';\n",
              "          await google.colab.output.renderOutput(dataTable, element);\n",
              "          const docLink = document.createElement('div');\n",
              "          docLink.innerHTML = docLinkHtml;\n",
              "          element.appendChild(docLink);\n",
              "        }\n",
              "      </script>\n",
              "    </div>\n",
              "  </div>\n",
              "  "
            ]
          },
          "metadata": {},
          "execution_count": 86
        }
      ]
    },
    {
      "cell_type": "code",
      "source": [
        "X = df.drop([3], axis = 1)\n",
        "X"
      ],
      "metadata": {
        "id": "P4iZZzAmwoXE",
        "colab": {
          "base_uri": "https://localhost:8080/",
          "height": 424
        },
        "outputId": "48010911-735f-41b2-e2e4-2a2ab2de63f6"
      },
      "execution_count": null,
      "outputs": [
        {
          "output_type": "execute_result",
          "data": {
            "text/plain": [
              "             0         1         2         4         5\n",
              "0     3.960335  4.009475  4.043465  2.197611  3.986632\n",
              "1     3.887696  3.773666  3.896906  1.720609  3.914735\n",
              "2     4.042192  3.864021  3.989666  2.022307  4.065862\n",
              "3     3.804194  4.023560  3.964382  3.800217  3.831559\n",
              "4     3.540526  3.656364  3.673452  1.977140  3.572112\n",
              "...        ...       ...       ...       ...       ...\n",
              "1308  0.215425  0.179686  0.208423 -0.392587 -0.055423\n",
              "1309  0.179957  0.190515  0.212428 -0.393172 -0.081195\n",
              "1310  0.155089  0.158154  0.162517 -0.398405 -0.099517\n",
              "1311  0.173656  0.155366  0.144933 -0.356778 -0.086338\n",
              "1312  0.220960  0.210141  0.160892 -0.312490 -0.052377\n",
              "\n",
              "[1313 rows x 5 columns]"
            ],
            "text/html": [
              "\n",
              "  <div id=\"df-b3704998-c029-4904-b2bd-7ab88e8c4df6\">\n",
              "    <div class=\"colab-df-container\">\n",
              "      <div>\n",
              "<style scoped>\n",
              "    .dataframe tbody tr th:only-of-type {\n",
              "        vertical-align: middle;\n",
              "    }\n",
              "\n",
              "    .dataframe tbody tr th {\n",
              "        vertical-align: top;\n",
              "    }\n",
              "\n",
              "    .dataframe thead th {\n",
              "        text-align: right;\n",
              "    }\n",
              "</style>\n",
              "<table border=\"1\" class=\"dataframe\">\n",
              "  <thead>\n",
              "    <tr style=\"text-align: right;\">\n",
              "      <th></th>\n",
              "      <th>0</th>\n",
              "      <th>1</th>\n",
              "      <th>2</th>\n",
              "      <th>4</th>\n",
              "      <th>5</th>\n",
              "    </tr>\n",
              "  </thead>\n",
              "  <tbody>\n",
              "    <tr>\n",
              "      <th>0</th>\n",
              "      <td>3.960335</td>\n",
              "      <td>4.009475</td>\n",
              "      <td>4.043465</td>\n",
              "      <td>2.197611</td>\n",
              "      <td>3.986632</td>\n",
              "    </tr>\n",
              "    <tr>\n",
              "      <th>1</th>\n",
              "      <td>3.887696</td>\n",
              "      <td>3.773666</td>\n",
              "      <td>3.896906</td>\n",
              "      <td>1.720609</td>\n",
              "      <td>3.914735</td>\n",
              "    </tr>\n",
              "    <tr>\n",
              "      <th>2</th>\n",
              "      <td>4.042192</td>\n",
              "      <td>3.864021</td>\n",
              "      <td>3.989666</td>\n",
              "      <td>2.022307</td>\n",
              "      <td>4.065862</td>\n",
              "    </tr>\n",
              "    <tr>\n",
              "      <th>3</th>\n",
              "      <td>3.804194</td>\n",
              "      <td>4.023560</td>\n",
              "      <td>3.964382</td>\n",
              "      <td>3.800217</td>\n",
              "      <td>3.831559</td>\n",
              "    </tr>\n",
              "    <tr>\n",
              "      <th>4</th>\n",
              "      <td>3.540526</td>\n",
              "      <td>3.656364</td>\n",
              "      <td>3.673452</td>\n",
              "      <td>1.977140</td>\n",
              "      <td>3.572112</td>\n",
              "    </tr>\n",
              "    <tr>\n",
              "      <th>...</th>\n",
              "      <td>...</td>\n",
              "      <td>...</td>\n",
              "      <td>...</td>\n",
              "      <td>...</td>\n",
              "      <td>...</td>\n",
              "    </tr>\n",
              "    <tr>\n",
              "      <th>1308</th>\n",
              "      <td>0.215425</td>\n",
              "      <td>0.179686</td>\n",
              "      <td>0.208423</td>\n",
              "      <td>-0.392587</td>\n",
              "      <td>-0.055423</td>\n",
              "    </tr>\n",
              "    <tr>\n",
              "      <th>1309</th>\n",
              "      <td>0.179957</td>\n",
              "      <td>0.190515</td>\n",
              "      <td>0.212428</td>\n",
              "      <td>-0.393172</td>\n",
              "      <td>-0.081195</td>\n",
              "    </tr>\n",
              "    <tr>\n",
              "      <th>1310</th>\n",
              "      <td>0.155089</td>\n",
              "      <td>0.158154</td>\n",
              "      <td>0.162517</td>\n",
              "      <td>-0.398405</td>\n",
              "      <td>-0.099517</td>\n",
              "    </tr>\n",
              "    <tr>\n",
              "      <th>1311</th>\n",
              "      <td>0.173656</td>\n",
              "      <td>0.155366</td>\n",
              "      <td>0.144933</td>\n",
              "      <td>-0.356778</td>\n",
              "      <td>-0.086338</td>\n",
              "    </tr>\n",
              "    <tr>\n",
              "      <th>1312</th>\n",
              "      <td>0.220960</td>\n",
              "      <td>0.210141</td>\n",
              "      <td>0.160892</td>\n",
              "      <td>-0.312490</td>\n",
              "      <td>-0.052377</td>\n",
              "    </tr>\n",
              "  </tbody>\n",
              "</table>\n",
              "<p>1313 rows × 5 columns</p>\n",
              "</div>\n",
              "      <button class=\"colab-df-convert\" onclick=\"convertToInteractive('df-b3704998-c029-4904-b2bd-7ab88e8c4df6')\"\n",
              "              title=\"Convert this dataframe to an interactive table.\"\n",
              "              style=\"display:none;\">\n",
              "        \n",
              "  <svg xmlns=\"http://www.w3.org/2000/svg\" height=\"24px\"viewBox=\"0 0 24 24\"\n",
              "       width=\"24px\">\n",
              "    <path d=\"M0 0h24v24H0V0z\" fill=\"none\"/>\n",
              "    <path d=\"M18.56 5.44l.94 2.06.94-2.06 2.06-.94-2.06-.94-.94-2.06-.94 2.06-2.06.94zm-11 1L8.5 8.5l.94-2.06 2.06-.94-2.06-.94L8.5 2.5l-.94 2.06-2.06.94zm10 10l.94 2.06.94-2.06 2.06-.94-2.06-.94-.94-2.06-.94 2.06-2.06.94z\"/><path d=\"M17.41 7.96l-1.37-1.37c-.4-.4-.92-.59-1.43-.59-.52 0-1.04.2-1.43.59L10.3 9.45l-7.72 7.72c-.78.78-.78 2.05 0 2.83L4 21.41c.39.39.9.59 1.41.59.51 0 1.02-.2 1.41-.59l7.78-7.78 2.81-2.81c.8-.78.8-2.07 0-2.86zM5.41 20L4 18.59l7.72-7.72 1.47 1.35L5.41 20z\"/>\n",
              "  </svg>\n",
              "      </button>\n",
              "      \n",
              "  <style>\n",
              "    .colab-df-container {\n",
              "      display:flex;\n",
              "      flex-wrap:wrap;\n",
              "      gap: 12px;\n",
              "    }\n",
              "\n",
              "    .colab-df-convert {\n",
              "      background-color: #E8F0FE;\n",
              "      border: none;\n",
              "      border-radius: 50%;\n",
              "      cursor: pointer;\n",
              "      display: none;\n",
              "      fill: #1967D2;\n",
              "      height: 32px;\n",
              "      padding: 0 0 0 0;\n",
              "      width: 32px;\n",
              "    }\n",
              "\n",
              "    .colab-df-convert:hover {\n",
              "      background-color: #E2EBFA;\n",
              "      box-shadow: 0px 1px 2px rgba(60, 64, 67, 0.3), 0px 1px 3px 1px rgba(60, 64, 67, 0.15);\n",
              "      fill: #174EA6;\n",
              "    }\n",
              "\n",
              "    [theme=dark] .colab-df-convert {\n",
              "      background-color: #3B4455;\n",
              "      fill: #D2E3FC;\n",
              "    }\n",
              "\n",
              "    [theme=dark] .colab-df-convert:hover {\n",
              "      background-color: #434B5C;\n",
              "      box-shadow: 0px 1px 3px 1px rgba(0, 0, 0, 0.15);\n",
              "      filter: drop-shadow(0px 1px 2px rgba(0, 0, 0, 0.3));\n",
              "      fill: #FFFFFF;\n",
              "    }\n",
              "  </style>\n",
              "\n",
              "      <script>\n",
              "        const buttonEl =\n",
              "          document.querySelector('#df-b3704998-c029-4904-b2bd-7ab88e8c4df6 button.colab-df-convert');\n",
              "        buttonEl.style.display =\n",
              "          google.colab.kernel.accessAllowed ? 'block' : 'none';\n",
              "\n",
              "        async function convertToInteractive(key) {\n",
              "          const element = document.querySelector('#df-b3704998-c029-4904-b2bd-7ab88e8c4df6');\n",
              "          const dataTable =\n",
              "            await google.colab.kernel.invokeFunction('convertToInteractive',\n",
              "                                                     [key], {});\n",
              "          if (!dataTable) return;\n",
              "\n",
              "          const docLinkHtml = 'Like what you see? Visit the ' +\n",
              "            '<a target=\"_blank\" href=https://colab.research.google.com/notebooks/data_table.ipynb>data table notebook</a>'\n",
              "            + ' to learn more about interactive tables.';\n",
              "          element.innerHTML = '';\n",
              "          dataTable['output_type'] = 'display_data';\n",
              "          await google.colab.output.renderOutput(dataTable, element);\n",
              "          const docLink = document.createElement('div');\n",
              "          docLink.innerHTML = docLinkHtml;\n",
              "          element.appendChild(docLink);\n",
              "        }\n",
              "      </script>\n",
              "    </div>\n",
              "  </div>\n",
              "  "
            ]
          },
          "metadata": {},
          "execution_count": 87
        }
      ]
    },
    {
      "cell_type": "code",
      "source": [
        "# spliting the data into train and test sets\n",
        "\n",
        "X = df.drop([3], axis = 1)\n",
        "Y = df.iloc[:,3]\n",
        "\n",
        "train_ratio = 0.70\n",
        "test_ratio = 0.30\n",
        "\n",
        "x_train, x_test, y_train, y_test = train_test_split(X, Y, test_size = 1-train_ratio, random_state = 1)\n",
        "\n",
        "print(x_train, x_test, y_train, y_test)\n"
      ],
      "metadata": {
        "id": "ZsnI42xFFOlH",
        "colab": {
          "base_uri": "https://localhost:8080/"
        },
        "outputId": "84b99da6-e2f6-4a0c-811c-ee75cca4dd8d"
      },
      "execution_count": null,
      "outputs": [
        {
          "output_type": "stream",
          "name": "stdout",
          "text": [
            "             0         1         2         4         5\n",
            "306  -0.072662 -0.097316 -0.049949 -0.306753 -0.014600\n",
            "1118 -0.037174 -0.060602 -0.015148 -0.426760 -0.182797\n",
            "994  -0.528837 -0.514232 -0.527869 -0.363119 -0.543996\n",
            "1154  0.028883  0.024141  0.039367 -0.331643 -0.142523\n",
            "1082 -0.184957 -0.205876 -0.254775 -0.346604 -0.288695\n",
            "...        ...       ...       ...       ...       ...\n",
            "715  -0.716539 -0.716385 -0.722326 -0.365380 -0.665161\n",
            "905  -0.789907 -0.774199 -0.788931 -0.390406 -0.745761\n",
            "1096 -0.145338 -0.133922 -0.127523 -0.387742 -0.261203\n",
            "235   0.229935  0.205086  0.262164 -0.209925  0.283863\n",
            "1061 -0.313034 -0.299973 -0.296638 -0.376595 -0.384330\n",
            "\n",
            "[919 rows x 5 columns]              0         1         2         4         5\n",
            "201   0.491771  0.465467  0.255993  0.502089  0.540557\n",
            "115   0.998130  0.945990  1.031014  0.520884  1.047971\n",
            "255   0.178760  0.165835  0.205947 -0.187556  0.231871\n",
            "1040 -0.414971 -0.426628 -0.427449 -0.374334 -0.460656\n",
            "195   0.347484  0.449476  0.387616  0.021380  0.403271\n",
            "...        ...       ...       ...       ...       ...\n",
            "226   0.261888  0.237123  0.298745 -0.213386  0.315860\n",
            "1036 -0.501408 -0.495542 -0.499471 -0.356803 -0.528630\n",
            "180   0.609227  0.590774  0.658331  0.006002  0.657825\n",
            "191   0.468268  0.479714  0.512837 -0.114155  0.520083\n",
            "348  -0.125912 -0.143546 -0.114136 -0.289107 -0.069935\n",
            "\n",
            "[394 rows x 5 columns] 306    -0.077762\n",
            "1118   -0.040996\n",
            "994    -0.519789\n",
            "1154    0.039116\n",
            "1082   -0.261331\n",
            "          ...   \n",
            "715    -0.721295\n",
            "905    -0.778470\n",
            "1096   -0.112130\n",
            "235     0.230938\n",
            "1061   -0.291647\n",
            "Name: 3, Length: 919, dtype: float64 201     0.243856\n",
            "115     0.985753\n",
            "255     0.195213\n",
            "1040   -0.436796\n",
            "195     0.485827\n",
            "          ...   \n",
            "226     0.268150\n",
            "1036   -0.503897\n",
            "180     0.636533\n",
            "191     0.511570\n",
            "348    -0.136331\n",
            "Name: 3, Length: 394, dtype: float64\n"
          ]
        }
      ]
    },
    {
      "cell_type": "code",
      "source": [
        "Y"
      ],
      "metadata": {
        "id": "OuCxaFo00HM0",
        "colab": {
          "base_uri": "https://localhost:8080/"
        },
        "outputId": "61d54efc-2354-4f7f-8560-bc44f32cba87"
      },
      "execution_count": null,
      "outputs": [
        {
          "output_type": "execute_result",
          "data": {
            "text/plain": [
              "0       4.142712\n",
              "1       3.923083\n",
              "2       3.865964\n",
              "3       4.019422\n",
              "4       3.764347\n",
              "          ...   \n",
              "1308    0.199711\n",
              "1309    0.203651\n",
              "1310    0.183057\n",
              "1311    0.151049\n",
              "1312    0.164506\n",
              "Name: 3, Length: 1313, dtype: float64"
            ]
          },
          "metadata": {},
          "execution_count": 89
        }
      ]
    },
    {
      "cell_type": "code",
      "source": [
        "x_train"
      ],
      "metadata": {
        "id": "u-fR5RBxzuU8",
        "colab": {
          "base_uri": "https://localhost:8080/",
          "height": 424
        },
        "outputId": "79f0cdea-13ea-4691-e0c0-dc129c65e66a"
      },
      "execution_count": null,
      "outputs": [
        {
          "output_type": "execute_result",
          "data": {
            "text/plain": [
              "             0         1         2         4         5\n",
              "306  -0.072662 -0.097316 -0.049949 -0.306753 -0.014600\n",
              "1118 -0.037174 -0.060602 -0.015148 -0.426760 -0.182797\n",
              "994  -0.528837 -0.514232 -0.527869 -0.363119 -0.543996\n",
              "1154  0.028883  0.024141  0.039367 -0.331643 -0.142523\n",
              "1082 -0.184957 -0.205876 -0.254775 -0.346604 -0.288695\n",
              "...        ...       ...       ...       ...       ...\n",
              "715  -0.716539 -0.716385 -0.722326 -0.365380 -0.665161\n",
              "905  -0.789907 -0.774199 -0.788931 -0.390406 -0.745761\n",
              "1096 -0.145338 -0.133922 -0.127523 -0.387742 -0.261203\n",
              "235   0.229935  0.205086  0.262164 -0.209925  0.283863\n",
              "1061 -0.313034 -0.299973 -0.296638 -0.376595 -0.384330\n",
              "\n",
              "[919 rows x 5 columns]"
            ],
            "text/html": [
              "\n",
              "  <div id=\"df-3bc246d4-63b9-42cb-87b2-43499c828112\">\n",
              "    <div class=\"colab-df-container\">\n",
              "      <div>\n",
              "<style scoped>\n",
              "    .dataframe tbody tr th:only-of-type {\n",
              "        vertical-align: middle;\n",
              "    }\n",
              "\n",
              "    .dataframe tbody tr th {\n",
              "        vertical-align: top;\n",
              "    }\n",
              "\n",
              "    .dataframe thead th {\n",
              "        text-align: right;\n",
              "    }\n",
              "</style>\n",
              "<table border=\"1\" class=\"dataframe\">\n",
              "  <thead>\n",
              "    <tr style=\"text-align: right;\">\n",
              "      <th></th>\n",
              "      <th>0</th>\n",
              "      <th>1</th>\n",
              "      <th>2</th>\n",
              "      <th>4</th>\n",
              "      <th>5</th>\n",
              "    </tr>\n",
              "  </thead>\n",
              "  <tbody>\n",
              "    <tr>\n",
              "      <th>306</th>\n",
              "      <td>-0.072662</td>\n",
              "      <td>-0.097316</td>\n",
              "      <td>-0.049949</td>\n",
              "      <td>-0.306753</td>\n",
              "      <td>-0.014600</td>\n",
              "    </tr>\n",
              "    <tr>\n",
              "      <th>1118</th>\n",
              "      <td>-0.037174</td>\n",
              "      <td>-0.060602</td>\n",
              "      <td>-0.015148</td>\n",
              "      <td>-0.426760</td>\n",
              "      <td>-0.182797</td>\n",
              "    </tr>\n",
              "    <tr>\n",
              "      <th>994</th>\n",
              "      <td>-0.528837</td>\n",
              "      <td>-0.514232</td>\n",
              "      <td>-0.527869</td>\n",
              "      <td>-0.363119</td>\n",
              "      <td>-0.543996</td>\n",
              "    </tr>\n",
              "    <tr>\n",
              "      <th>1154</th>\n",
              "      <td>0.028883</td>\n",
              "      <td>0.024141</td>\n",
              "      <td>0.039367</td>\n",
              "      <td>-0.331643</td>\n",
              "      <td>-0.142523</td>\n",
              "    </tr>\n",
              "    <tr>\n",
              "      <th>1082</th>\n",
              "      <td>-0.184957</td>\n",
              "      <td>-0.205876</td>\n",
              "      <td>-0.254775</td>\n",
              "      <td>-0.346604</td>\n",
              "      <td>-0.288695</td>\n",
              "    </tr>\n",
              "    <tr>\n",
              "      <th>...</th>\n",
              "      <td>...</td>\n",
              "      <td>...</td>\n",
              "      <td>...</td>\n",
              "      <td>...</td>\n",
              "      <td>...</td>\n",
              "    </tr>\n",
              "    <tr>\n",
              "      <th>715</th>\n",
              "      <td>-0.716539</td>\n",
              "      <td>-0.716385</td>\n",
              "      <td>-0.722326</td>\n",
              "      <td>-0.365380</td>\n",
              "      <td>-0.665161</td>\n",
              "    </tr>\n",
              "    <tr>\n",
              "      <th>905</th>\n",
              "      <td>-0.789907</td>\n",
              "      <td>-0.774199</td>\n",
              "      <td>-0.788931</td>\n",
              "      <td>-0.390406</td>\n",
              "      <td>-0.745761</td>\n",
              "    </tr>\n",
              "    <tr>\n",
              "      <th>1096</th>\n",
              "      <td>-0.145338</td>\n",
              "      <td>-0.133922</td>\n",
              "      <td>-0.127523</td>\n",
              "      <td>-0.387742</td>\n",
              "      <td>-0.261203</td>\n",
              "    </tr>\n",
              "    <tr>\n",
              "      <th>235</th>\n",
              "      <td>0.229935</td>\n",
              "      <td>0.205086</td>\n",
              "      <td>0.262164</td>\n",
              "      <td>-0.209925</td>\n",
              "      <td>0.283863</td>\n",
              "    </tr>\n",
              "    <tr>\n",
              "      <th>1061</th>\n",
              "      <td>-0.313034</td>\n",
              "      <td>-0.299973</td>\n",
              "      <td>-0.296638</td>\n",
              "      <td>-0.376595</td>\n",
              "      <td>-0.384330</td>\n",
              "    </tr>\n",
              "  </tbody>\n",
              "</table>\n",
              "<p>919 rows × 5 columns</p>\n",
              "</div>\n",
              "      <button class=\"colab-df-convert\" onclick=\"convertToInteractive('df-3bc246d4-63b9-42cb-87b2-43499c828112')\"\n",
              "              title=\"Convert this dataframe to an interactive table.\"\n",
              "              style=\"display:none;\">\n",
              "        \n",
              "  <svg xmlns=\"http://www.w3.org/2000/svg\" height=\"24px\"viewBox=\"0 0 24 24\"\n",
              "       width=\"24px\">\n",
              "    <path d=\"M0 0h24v24H0V0z\" fill=\"none\"/>\n",
              "    <path d=\"M18.56 5.44l.94 2.06.94-2.06 2.06-.94-2.06-.94-.94-2.06-.94 2.06-2.06.94zm-11 1L8.5 8.5l.94-2.06 2.06-.94-2.06-.94L8.5 2.5l-.94 2.06-2.06.94zm10 10l.94 2.06.94-2.06 2.06-.94-2.06-.94-.94-2.06-.94 2.06-2.06.94z\"/><path d=\"M17.41 7.96l-1.37-1.37c-.4-.4-.92-.59-1.43-.59-.52 0-1.04.2-1.43.59L10.3 9.45l-7.72 7.72c-.78.78-.78 2.05 0 2.83L4 21.41c.39.39.9.59 1.41.59.51 0 1.02-.2 1.41-.59l7.78-7.78 2.81-2.81c.8-.78.8-2.07 0-2.86zM5.41 20L4 18.59l7.72-7.72 1.47 1.35L5.41 20z\"/>\n",
              "  </svg>\n",
              "      </button>\n",
              "      \n",
              "  <style>\n",
              "    .colab-df-container {\n",
              "      display:flex;\n",
              "      flex-wrap:wrap;\n",
              "      gap: 12px;\n",
              "    }\n",
              "\n",
              "    .colab-df-convert {\n",
              "      background-color: #E8F0FE;\n",
              "      border: none;\n",
              "      border-radius: 50%;\n",
              "      cursor: pointer;\n",
              "      display: none;\n",
              "      fill: #1967D2;\n",
              "      height: 32px;\n",
              "      padding: 0 0 0 0;\n",
              "      width: 32px;\n",
              "    }\n",
              "\n",
              "    .colab-df-convert:hover {\n",
              "      background-color: #E2EBFA;\n",
              "      box-shadow: 0px 1px 2px rgba(60, 64, 67, 0.3), 0px 1px 3px 1px rgba(60, 64, 67, 0.15);\n",
              "      fill: #174EA6;\n",
              "    }\n",
              "\n",
              "    [theme=dark] .colab-df-convert {\n",
              "      background-color: #3B4455;\n",
              "      fill: #D2E3FC;\n",
              "    }\n",
              "\n",
              "    [theme=dark] .colab-df-convert:hover {\n",
              "      background-color: #434B5C;\n",
              "      box-shadow: 0px 1px 3px 1px rgba(0, 0, 0, 0.15);\n",
              "      filter: drop-shadow(0px 1px 2px rgba(0, 0, 0, 0.3));\n",
              "      fill: #FFFFFF;\n",
              "    }\n",
              "  </style>\n",
              "\n",
              "      <script>\n",
              "        const buttonEl =\n",
              "          document.querySelector('#df-3bc246d4-63b9-42cb-87b2-43499c828112 button.colab-df-convert');\n",
              "        buttonEl.style.display =\n",
              "          google.colab.kernel.accessAllowed ? 'block' : 'none';\n",
              "\n",
              "        async function convertToInteractive(key) {\n",
              "          const element = document.querySelector('#df-3bc246d4-63b9-42cb-87b2-43499c828112');\n",
              "          const dataTable =\n",
              "            await google.colab.kernel.invokeFunction('convertToInteractive',\n",
              "                                                     [key], {});\n",
              "          if (!dataTable) return;\n",
              "\n",
              "          const docLinkHtml = 'Like what you see? Visit the ' +\n",
              "            '<a target=\"_blank\" href=https://colab.research.google.com/notebooks/data_table.ipynb>data table notebook</a>'\n",
              "            + ' to learn more about interactive tables.';\n",
              "          element.innerHTML = '';\n",
              "          dataTable['output_type'] = 'display_data';\n",
              "          await google.colab.output.renderOutput(dataTable, element);\n",
              "          const docLink = document.createElement('div');\n",
              "          docLink.innerHTML = docLinkHtml;\n",
              "          element.appendChild(docLink);\n",
              "        }\n",
              "      </script>\n",
              "    </div>\n",
              "  </div>\n",
              "  "
            ]
          },
          "metadata": {},
          "execution_count": 90
        }
      ]
    },
    {
      "cell_type": "code",
      "source": [
        "y_train"
      ],
      "metadata": {
        "id": "nuc6xucwz98a",
        "colab": {
          "base_uri": "https://localhost:8080/"
        },
        "outputId": "aa5955d8-67ac-4c0a-af4b-a71d2989ffe4"
      },
      "execution_count": null,
      "outputs": [
        {
          "output_type": "execute_result",
          "data": {
            "text/plain": [
              "306    -0.077762\n",
              "1118   -0.040996\n",
              "994    -0.519789\n",
              "1154    0.039116\n",
              "1082   -0.261331\n",
              "          ...   \n",
              "715    -0.721295\n",
              "905    -0.778470\n",
              "1096   -0.112130\n",
              "235     0.230938\n",
              "1061   -0.291647\n",
              "Name: 3, Length: 919, dtype: float64"
            ]
          },
          "metadata": {},
          "execution_count": 91
        }
      ]
    },
    {
      "cell_type": "markdown",
      "source": [
        "# **1) Decision Tree Regressor**"
      ],
      "metadata": {
        "id": "87S7cK8J4diP"
      }
    },
    {
      "cell_type": "code",
      "source": [
        "regressor = DecisionTreeRegressor()\n",
        "regressor.fit(x_train, y_train)\n",
        "y_pred = regressor.predict(x_test)\n",
        "print(\" The mean_squared_error for Decision Tree Regressor is -->\",mean_squared_error(y_test, y_pred))"
      ],
      "metadata": {
        "colab": {
          "base_uri": "https://localhost:8080/"
        },
        "id": "Ylu9dyY7FWf8",
        "outputId": "82833f8c-8441-49bd-8a1a-869ecc4d3dd4"
      },
      "execution_count": null,
      "outputs": [
        {
          "output_type": "stream",
          "name": "stdout",
          "text": [
            " The mean_squared_error for Decision Tree Regressor is --> 0.003985419054619389\n"
          ]
        }
      ]
    },
    {
      "cell_type": "code",
      "source": [
        "\n",
        "# varying hyper parameter\n",
        "\n",
        "Max_depth =[2,3,4,5,8,9,10,11]\n",
        "mse_hyper0 = []\n",
        "for i in range(len(Max_depth)): \n",
        "   regressor = DecisionTreeRegressor(max_depth=Max_depth[i])\n",
        "   regressor.fit(x_train, y_train)\n",
        "   y_pred = regressor.predict(x_test)\n",
        "   mse_hyper0.append(mean_squared_error(y_test, y_pred))\n",
        "\n",
        "print(\"mse_hyper0 :\",mse_hyper0)\n",
        "plt.xlabel(\"max_depth\")\n",
        "plt.ylabel(\"MSE\")\n",
        "plt.plot(Max_depth,mse_hyper0)\n",
        "plt.show()\n",
        "\n",
        "Min_samples_split=[2,3,4,5,6,7]\n",
        "mse_hyper1 = []\n",
        "for i in range(len(Min_samples_split)): \n",
        "   regressor = DecisionTreeRegressor(min_samples_split=Min_samples_split[i])\n",
        "   regressor.fit(x_train, y_train)\n",
        "   y_pred = regressor.predict(x_test)\n",
        "   mse_hyper1.append(mean_squared_error(y_test, y_pred))\n",
        "\n",
        "print(\"mse_hyper1 :\",mse_hyper1)\n",
        "plt.xlabel(\"min_sample_split\")\n",
        "plt.ylabel(\"MSE\")\n",
        "plt.plot(Min_samples_split,mse_hyper1)\n",
        "plt.show()\n",
        "\n",
        "\n",
        "\n",
        "\n",
        "Min_samples_leaf=[1,2,3,4,5,6,7,9,10]\n",
        "mse_hyper2 = []\n",
        "for i in range(len(Min_samples_leaf)): \n",
        "   regressor = DecisionTreeRegressor(min_samples_leaf=Min_samples_leaf[i])\n",
        "   regressor.fit(x_train, y_train)\n",
        "   y_pred = regressor.predict(x_test)\n",
        "   mse_hyper2.append(mean_squared_error(y_test, y_pred))\n",
        "\n",
        "print(\"mse_hyper2 :\",mse_hyper2)\n",
        "plt.xlabel(\"min_sample_leaf\")\n",
        "plt.ylabel(\"MSE\")\n",
        "plt.plot(Min_samples_leaf,mse_hyper2)\n",
        "plt.show()\n",
        "\n",
        "\n",
        "Min_weight_fraction_leaf=[0.1,0.2,0.3,0.4]\n",
        "mse_hyper3 = []\n",
        "for i in range(len(Min_weight_fraction_leaf)): \n",
        "   regressor = DecisionTreeRegressor(min_weight_fraction_leaf=Min_weight_fraction_leaf[i])\n",
        "   regressor.fit(x_train, y_train)\n",
        "   y_pred = regressor.predict(x_test)\n",
        "   mse_hyper3.append(mean_squared_error(y_test, y_pred))\n",
        "\n",
        "print(\"mse_hyper3 :\",mse_hyper3)\n",
        "plt.xlabel(\"min_weight_fraction_leaf\")\n",
        "plt.ylabel(\"MSE\")\n",
        "plt.plot(Min_weight_fraction_leaf,mse_hyper3)\n",
        "plt.show()\n",
        "\n",
        "\n",
        "Max_features=[1,2,3,4,5]\n",
        "mse_hyper4 = []\n",
        "for i in range(len(Max_features)): \n",
        "   regressor = DecisionTreeRegressor(max_features=Max_features[i])\n",
        "   regressor.fit(x_train, y_train)\n",
        "   y_pred = regressor.predict(x_test)\n",
        "   mse_hyper4.append(mean_squared_error(y_test, y_pred))\n",
        "\n",
        "print(\"mse_hyper4 :\",mse_hyper4)\n",
        "plt.xlabel(\"max_features\")\n",
        "plt.ylabel(\"MSE\")\n",
        "plt.plot(Max_features,mse_hyper4)\n",
        "plt.show()\n",
        "\n"
      ],
      "metadata": {
        "id": "KHZ8U3H4HdjD",
        "colab": {
          "base_uri": "https://localhost:8080/",
          "height": 1000
        },
        "outputId": "1fb617df-84be-4641-874c-643c727fc7ef"
      },
      "execution_count": null,
      "outputs": [
        {
          "output_type": "stream",
          "name": "stdout",
          "text": [
            "mse_hyper0 : [0.08433446080727673, 0.021215536305900187, 0.006617818165460342, 0.004369631285249092, 0.003956373325187105, 0.003707223921171583, 0.0038242515806609055, 0.003805518513290297]\n"
          ]
        },
        {
          "output_type": "display_data",
          "data": {
            "text/plain": [
              "<Figure size 432x288 with 1 Axes>"
            ],
            "image/png": "[encoded data removed]"
          },
          "metadata": {
            "needs_background": "light"
          }
        },
        {
          "output_type": "stream",
          "name": "stdout",
          "text": [
            "mse_hyper1 : [0.004099082574976993, 0.003973164565162418, 0.003837219081517447, 0.0041329699003278385, 0.003822249391972201, 0.004265610448021508]\n"
          ]
        },
        {
          "output_type": "display_data",
          "data": {
            "text/plain": [
              "<Figure size 432x288 with 1 Axes>"
            ],
            "image/png": "[encoded data removed]"
          },
          "metadata": {
            "needs_background": "light"
          }
        },
        {
          "output_type": "stream",
          "name": "stdout",
          "text": [
            "mse_hyper2 : [0.003914106815844885, 0.001840790367021573, 0.002515902996056321, 0.0027490147883807016, 0.0042567388498637275, 0.00452332186346501, 0.00447196277492199, 0.004247277473185327, 0.00500246504857709]\n"
          ]
        },
        {
          "output_type": "display_data",
          "data": {
            "text/plain": [
              "<Figure size 432x288 with 1 Axes>"
            ],
            "image/png": "[encoded data removed]"
          },
          "metadata": {
            "needs_background": "light"
          }
        },
        {
          "output_type": "stream",
          "name": "stdout",
          "text": [
            "mse_hyper3 : [0.12926919746295198, 0.31173954142024535, 0.4170396934908335, 0.5038582792825117]\n"
          ]
        },
        {
          "output_type": "display_data",
          "data": {
            "text/plain": [
              "<Figure size 432x288 with 1 Axes>"
            ],
            "image/png": "[encoded data removed]"
          },
          "metadata": {
            "needs_background": "light"
          }
        },
        {
          "output_type": "stream",
          "name": "stdout",
          "text": [
            "mse_hyper4 : [0.0038435076215822326, 0.004599005517406996, 0.0023485233283244943, 0.003897398673265783, 0.004152009589575576]\n"
          ]
        },
        {
          "output_type": "display_data",
          "data": {
            "text/plain": [
              "<Figure size 432x288 with 1 Axes>"
            ],
            "image/png": "[encoded data removed]"
          },
          "metadata": {
            "needs_background": "light"
          }
        }
      ]
    },
    {
      "cell_type": "markdown",
      "source": [
        "# **2). RandomForestRegressor**"
      ],
      "metadata": {
        "id": "-i2q70wgKXhd"
      }
    },
    {
      "cell_type": "code",
      "source": [
        "from sklearn.ensemble import RandomForestRegressor\n",
        "regressor = RandomForestRegressor()\n",
        "regressor.fit(x_train, y_train)\n",
        "y_pred = regressor.predict(x_test)\n",
        "print(\" The mean_squared_error for Random Forest Regressor is -->\",mean_squared_error(y_test, y_pred))"
      ],
      "metadata": {
        "colab": {
          "base_uri": "https://localhost:8080/"
        },
        "id": "yySfxyUeWZ3j",
        "outputId": "29241e43-4dd8-46ed-c259-533052d8b87a"
      },
      "execution_count": null,
      "outputs": [
        {
          "output_type": "stream",
          "name": "stdout",
          "text": [
            " The mean_squared_error for Random Forest Regressor is --> 0.001628872128366855\n"
          ]
        }
      ]
    },
    {
      "cell_type": "code",
      "source": [
        "from sklearn.ensemble import RandomForestRegressor\n",
        "\n",
        "# varying hyper parameter\n",
        "\n",
        "Max_depth =[2,3,4,5,8,9,10,11]\n",
        "mse_hyper0 = []\n",
        "for i in range(len(Max_depth)): \n",
        "   regressor = RandomForestRegressor(max_depth = Max_depth[i])\n",
        "   regressor.fit(x_train, y_train)\n",
        "   y_pred = regressor.predict(x_test)\n",
        "   mse_hyper0.append(mean_squared_error(y_test, y_pred))\n",
        "\n",
        "print(\"mse_hyper0 :\",mse_hyper0)\n",
        "plt.xlabel(\"max_depth\")\n",
        "plt.ylabel(\"MSE\")\n",
        "plt.plot(Max_depth,mse_hyper0)\n",
        "plt.show()\n",
        "\n",
        "N_estimator = [5,10,50,100,250]\n",
        "mse_hyper1 = []\n",
        "for i in range(len(N_estimator)): \n",
        "   regressor = RandomForestRegressor(n_estimators=N_estimator[i])\n",
        "   regressor.fit(x_train, y_train)\n",
        "   y_pred = regressor.predict(x_test)\n",
        "   mse_hyper1.append(mean_squared_error(y_test, y_pred))\n",
        "\n",
        "print(\"mse_hyper1 :\",mse_hyper1)\n",
        "plt.xlabel(\"n_estimators\")\n",
        "plt.ylabel(\"MSE\")\n",
        "plt.plot(N_estimator,mse_hyper1)\n",
        "plt.show()\n",
        "\n",
        "\n",
        "\n",
        "\n",
        "Min_samples_leaf=[1,2,3,4,5,6,7,9,10]\n",
        "mse_hyper2 = []\n",
        "for i in range(len(Min_samples_leaf)): \n",
        "   regressor = RandomForestRegressor(min_samples_leaf=Min_samples_leaf[i])\n",
        "   regressor.fit(x_train, y_train)\n",
        "   y_pred = regressor.predict(x_test)\n",
        "   mse_hyper2.append(mean_squared_error(y_test, y_pred))\n",
        "\n",
        "print(\"mse_hyper2 :\",mse_hyper2)\n",
        "plt.xlabel(\"min_sample_leaf\")\n",
        "plt.ylabel(\"MSE\")\n",
        "plt.plot(Min_samples_leaf,mse_hyper2)\n",
        "plt.show()\n",
        "\n",
        "\n",
        "Min_samples_split=[2,3,4,5,6,7]\n",
        "mse_hyper1 = []\n",
        "for i in range(len(Min_samples_split)): \n",
        "   regressor = RandomForestRegressor(min_samples_split=Min_samples_split[i])\n",
        "   regressor.fit(x_train, y_train)\n",
        "   y_pred = regressor.predict(x_test)\n",
        "   mse_hyper1.append(mean_squared_error(y_test, y_pred))\n",
        "\n",
        "print(\"mse_hyper1 :\",mse_hyper1)\n",
        "plt.xlabel(\"min_sample_split\")\n",
        "plt.ylabel(\"MSE\")\n",
        "plt.plot(Min_samples_split,mse_hyper1)\n",
        "plt.show()\n",
        "\n",
        "\n",
        "\n",
        "Max_features=[1,2,3,4,5]\n",
        "mse_hyper4 = []\n",
        "for i in range(len(Max_features)): \n",
        "   regressor = RandomForestRegressor(max_features=Max_features[i])\n",
        "   regressor.fit(x_train, y_train)\n",
        "   y_pred = regressor.predict(x_test)\n",
        "   mse_hyper4.append(mean_squared_error(y_test, y_pred))\n",
        "\n",
        "print(\"mse_hyper4 :\",mse_hyper4)\n",
        "plt.xlabel(\"max_features\")\n",
        "plt.ylabel(\"MSE\")\n",
        "plt.plot(Max_features,mse_hyper4)\n",
        "plt.show()\n",
        "\n",
        "\n",
        "Bootstrap =['True' , 'False']\n",
        "mse_hyper4 = []\n",
        "for i in range(2): \n",
        "   regressor = RandomForestRegressor(bootstrap=Bootstrap[i])\n",
        "   regressor.fit(x_train, y_train)\n",
        "   y_pred = regressor.predict(x_test)\n",
        "   mse_hyper4.append(mean_squared_error(y_test, y_pred))\n",
        "\n",
        "print(\"mse_hyper4 :\",mse_hyper4)\n",
        "plt.xlabel(\"max_features\")\n",
        "plt.ylabel(\"MSE\")\n",
        "plt.plot(Bootstrap,mse_hyper4)\n",
        "plt.show()\n",
        "\n"
      ],
      "metadata": {
        "colab": {
          "base_uri": "https://localhost:8080/",
          "height": 1000
        },
        "id": "iNkB1G-EKWIM",
        "outputId": "86988d0c-9242-4404-8ee8-d1f11de0dd10"
      },
      "execution_count": null,
      "outputs": [
        {
          "output_type": "stream",
          "name": "stdout",
          "text": [
            "mse_hyper0 : [0.0675506200139246, 0.012613154429506335, 0.0036976015484835915, 0.001916882505842214, 0.0015016439407957484, 0.0014630077007227154, 0.001550468349364787, 0.001616796314860924]\n"
          ]
        },
        {
          "output_type": "display_data",
          "data": {
            "text/plain": [
              "<Figure size 432x288 with 1 Axes>"
            ],
            "image/png": "[encoded data removed]"
          },
          "metadata": {
            "needs_background": "light"
          }
        },
        {
          "output_type": "stream",
          "name": "stdout",
          "text": [
            "mse_hyper1 : [0.002258379371041173, 0.0015265239883486038, 0.0015345165777427446, 0.0014587635019329044, 0.0013669100224920267]\n"
          ]
        },
        {
          "output_type": "display_data",
          "data": {
            "text/plain": [
              "<Figure size 432x288 with 1 Axes>"
            ],
            "image/png": "[encoded data removed]"
          },
          "metadata": {
            "needs_background": "light"
          }
        },
        {
          "output_type": "stream",
          "name": "stdout",
          "text": [
            "mse_hyper2 : [0.00140342559228038, 0.0014799834597389323, 0.001801266865247581, 0.0021160417808260075, 0.002599319880666881, 0.00359577960674444, 0.00527034248788655, 0.007293995394748106, 0.008222525886508092]\n"
          ]
        },
        {
          "output_type": "display_data",
          "data": {
            "text/plain": [
              "<Figure size 432x288 with 1 Axes>"
            ],
            "image/png": "[encoded data removed]"
          },
          "metadata": {
            "needs_background": "light"
          }
        },
        {
          "output_type": "stream",
          "name": "stdout",
          "text": [
            "mse_hyper1 : [0.001535500775632499, 0.0015738169453737311, 0.0015449002747937198, 0.0017380084740596, 0.0016829868270693848, 0.0019049886043067345]\n"
          ]
        },
        {
          "output_type": "display_data",
          "data": {
            "text/plain": [
              "<Figure size 432x288 with 1 Axes>"
            ],
            "image/png": "[encoded data removed]"
          },
          "metadata": {
            "needs_background": "light"
          }
        },
        {
          "output_type": "stream",
          "name": "stdout",
          "text": [
            "mse_hyper4 : [0.0026040596608565623, 0.0017091162670813344, 0.0015654078449722523, 0.0015116567515732178, 0.0015347147607789873]\n"
          ]
        },
        {
          "output_type": "display_data",
          "data": {
            "text/plain": [
              "<Figure size 432x288 with 1 Axes>"
            ],
            "image/png": "[encoded data removed]"
          },
          "metadata": {
            "needs_background": "light"
          }
        },
        {
          "output_type": "stream",
          "name": "stdout",
          "text": [
            "mse_hyper4 : [0.0015597889964035759, 0.001530391664938529]\n"
          ]
        },
        {
          "output_type": "display_data",
          "data": {
            "text/plain": [
              "<Figure size 432x288 with 1 Axes>"
            ],
            "image/png": "[encoded data removed]"
          },
          "metadata": {
            "needs_background": "light"
          }
        }
      ]
    },
    {
      "cell_type": "markdown",
      "source": [
        "# **3. AdaBoostRegressor**"
      ],
      "metadata": {
        "id": "yB44KnjxmP4x"
      }
    },
    {
      "cell_type": "code",
      "source": [
        "from sklearn.ensemble import AdaBoostRegressor\n",
        "regressor = AdaBoostRegressor()\n",
        "regressor.fit(x_train, y_train)\n",
        "y_pred = regressor.predict(x_test)\n",
        "print(\" The mean_squared_error for Ada Boost Regressor is -->\",mean_squared_error(y_test, y_pred))"
      ],
      "metadata": {
        "colab": {
          "base_uri": "https://localhost:8080/"
        },
        "id": "cREAGb2-mPdK",
        "outputId": "039c12b2-bfdb-4aa2-d5f3-05f1aa4e8c49"
      },
      "execution_count": null,
      "outputs": [
        {
          "output_type": "stream",
          "name": "stdout",
          "text": [
            " The mean_squared_error for Ada Boost Regressor is --> 0.013640741069880159\n"
          ]
        }
      ]
    },
    {
      "cell_type": "code",
      "source": [
        "from sklearn.ensemble import AdaBoostRegressor\n",
        "\n",
        "# varying hyper parameter\n",
        "\n",
        "N_estimator =[100,250,500,1000,2000]\n",
        "mse_hyper1 = []\n",
        "for i in range(len(N_estimator)): \n",
        "   regressor = AdaBoostRegressor(n_estimators=N_estimator[i])\n",
        "   regressor.fit(x_train, y_train)\n",
        "   y_pred = regressor.predict(x_test)\n",
        "   mse_hyper1.append(mean_squared_error(y_test, y_pred))\n",
        "\n",
        "print(\"mse_hyper1 :\",mse_hyper1)\n",
        "plt.xlabel(\"n_estimators\")\n",
        "plt.ylabel(\"MSE\")\n",
        "plt.plot(N_estimator,mse_hyper1)\n",
        "plt.show()\n",
        "\n",
        "\n",
        "\n",
        "\n",
        "learning_rate=[0.001, 0.01, 0.1]\n",
        "mse_hyper2 = []\n",
        "for i in range(len(learning_rate)): \n",
        "   regressor = AdaBoostRegressor(learning_rate=learning_rate[i])\n",
        "   regressor.fit(x_train, y_train)\n",
        "   y_pred = regressor.predict(x_test)\n",
        "   mse_hyper2.append(mean_squared_error(y_test, y_pred))\n",
        "\n",
        "print(\"mse_hyper2 :\",mse_hyper2)\n",
        "plt.xlabel(\"learning rate\")\n",
        "plt.ylabel(\"MSE\")\n",
        "plt.plot(learning_rate,mse_hyper2)\n",
        "plt.show()\n",
        "\n",
        "\n",
        "\n",
        "\n"
      ],
      "metadata": {
        "colab": {
          "base_uri": "https://localhost:8080/",
          "height": 579
        },
        "id": "sEXNvqngi2gt",
        "outputId": "6d9a5fcc-ad5c-414f-a86f-01ba8a6a1d4e"
      },
      "execution_count": null,
      "outputs": [
        {
          "output_type": "stream",
          "name": "stdout",
          "text": [
            "mse_hyper1 : [0.010600333326620871, 0.012988641871271463, 0.015125505740559169, 0.012313006540842431, 0.009365423212207869]\n"
          ]
        },
        {
          "output_type": "display_data",
          "data": {
            "text/plain": [
              "<Figure size 432x288 with 1 Axes>"
            ],
            "image/png": "[encoded data removed]"
          },
          "metadata": {
            "needs_background": "light"
          }
        },
        {
          "output_type": "stream",
          "name": "stdout",
          "text": [
            "mse_hyper2 : [0.01964952738898932, 0.01742995007932964, 0.009417423389814671]\n"
          ]
        },
        {
          "output_type": "display_data",
          "data": {
            "text/plain": [
              "<Figure size 432x288 with 1 Axes>"
            ],
            "image/png": "[encoded data removed]"
          },
          "metadata": {
            "needs_background": "light"
          }
        }
      ]
    },
    {
      "cell_type": "markdown",
      "source": [
        "# **4) LinearRegression**"
      ],
      "metadata": {
        "id": "ZdM-vihwofWw"
      }
    },
    {
      "cell_type": "code",
      "source": [
        "from sklearn.linear_model import LinearRegression"
      ],
      "metadata": {
        "id": "uoxYtEkHob9Q"
      },
      "execution_count": null,
      "outputs": []
    },
    {
      "cell_type": "code",
      "source": [
        "regressor = LinearRegression()\n",
        "regressor.fit(x_train, y_train)\n",
        "y_pred = regressor.predict(x_test)\n",
        "print(\" The mean_squared_error for Linear Regressor is -->\",mean_squared_error(y_test, y_pred))"
      ],
      "metadata": {
        "colab": {
          "base_uri": "https://localhost:8080/"
        },
        "id": "S4zlsK2Boeee",
        "outputId": "f07eac01-5da5-4089-b69f-13a312429f4b"
      },
      "execution_count": null,
      "outputs": [
        {
          "output_type": "stream",
          "name": "stdout",
          "text": [
            " The mean_squared_error for Linear Regressor is --> 0.0006486416067406132\n"
          ]
        }
      ]
    },
    {
      "cell_type": "markdown",
      "source": [
        "# **5) KNeighborsRegressor**"
      ],
      "metadata": {
        "id": "IOqhlkRe33B7"
      }
    },
    {
      "cell_type": "code",
      "source": [
        "from sklearn.neighbors import KNeighborsRegressor\n",
        "regressor = KNeighborsRegressor()\n",
        "regressor.fit(x_train, y_train)\n",
        "y_pred = regressor.predict(x_test)\n",
        "print(\" The mean_squared_error for KNeighborsRegressor is -->\",mean_squared_error(y_test, y_pred))"
      ],
      "metadata": {
        "colab": {
          "base_uri": "https://localhost:8080/"
        },
        "id": "IsYgz3V5o1-l",
        "outputId": "7150f034-546c-40de-ab60-0e08494ab144"
      },
      "execution_count": null,
      "outputs": [
        {
          "output_type": "stream",
          "name": "stdout",
          "text": [
            " The mean_squared_error for KNeighborsRegressor is --> 0.004634361419203402\n"
          ]
        }
      ]
    },
    {
      "cell_type": "code",
      "source": [
        "\n",
        "n_neighbors = [2, 5, 10, 15, 20, 25, 30]\n",
        "mse_hyper1 = []\n",
        "for i in range(len(n_neighbors)): \n",
        "   regressor = KNeighborsRegressor(n_neighbors=n_neighbors[i])\n",
        "   regressor.fit(x_train, y_train)\n",
        "   y_pred = regressor.predict(x_test)\n",
        "   mse_hyper1.append(mean_squared_error(y_test, y_pred))\n",
        "\n",
        "print(\"mse_hyper1 :\",mse_hyper1)\n",
        "plt.xlabel(\"n_neighbors\")\n",
        "plt.ylabel(\"MSE\")\n",
        "plt.plot(n_neighbors,mse_hyper1)\n",
        "plt.show()\n",
        "\n",
        "\n"
      ],
      "metadata": {
        "colab": {
          "base_uri": "https://localhost:8080/",
          "height": 318
        },
        "id": "2M1SaSWo5-q-",
        "outputId": "3ce8dc08-c5e3-4d39-dbf2-e8c337b893c8"
      },
      "execution_count": null,
      "outputs": [
        {
          "output_type": "stream",
          "name": "stdout",
          "text": [
            "mse_hyper1 : [0.003938337314564823, 0.004634361419203402, 0.004820757982066793, 0.005009766970619314, 0.005687988883091778, 0.005825698961197717, 0.006547850961164709]\n"
          ]
        },
        {
          "output_type": "display_data",
          "data": {
            "text/plain": [
              "<Figure size 432x288 with 1 Axes>"
            ],
            "image/png": "[encoded data removed]"
          },
          "metadata": {
            "needs_background": "light"
          }
        }
      ]
    },
    {
      "cell_type": "markdown",
      "source": [
        "# **Hyper Tuning**"
      ],
      "metadata": {
        "id": "YDY9hXMi-n-b"
      }
    },
    {
      "cell_type": "code",
      "source": [
        "l =[]\n",
        "\n",
        "\n",
        "regressor = DecisionTreeRegressor(max_depth = 10 , min_samples_leaf=2, min_samples_split=3, max_features = 3, min_weight_fraction_leaf =0.1 )\n",
        "regressor.fit(x_train, y_train)\n",
        "y_pred = regressor.predict(x_test)\n",
        "l.append(mean_squared_error(y_test, y_pred))\n",
        "\n",
        "\n",
        "regressor = RandomForestRegressor(max_depth = 10 , n_estimators = 50, min_samples_leaf=1, min_samples_split=2, max_features = 5, bootstrap = True )\n",
        "regressor.fit(x_train, y_train)\n",
        "y_pred = regressor.predict(x_test)\n",
        "l.append(mean_squared_error(y_test, y_pred))\n",
        "\n",
        "regressor = AdaBoostRegressor(n_estimators = 250 , learning_rate=0.1)\n",
        "regressor.fit(x_train, y_train)\n",
        "y_pred = regressor.predict(x_test)\n",
        "l.append(mean_squared_error(y_test, y_pred))\n",
        "\n",
        "\n",
        "regressor = LinearRegression()\n",
        "regressor.fit(x_train, y_train)\n",
        "y_pred = regressor.predict(x_test)\n",
        "l.append(mean_squared_error(y_test, y_pred))\n",
        "\n",
        "regressor = KNeighborsRegressor(n_neighbors = 2)\n",
        "regressor.fit(x_train, y_train)\n",
        "y_pred = regressor.predict(x_test)\n",
        "l.append(mean_squared_error(y_test, y_pred))"
      ],
      "metadata": {
        "id": "QCi0iyz3_mQJ"
      },
      "execution_count": null,
      "outputs": []
    },
    {
      "cell_type": "code",
      "source": [
        "l"
      ],
      "metadata": {
        "colab": {
          "base_uri": "https://localhost:8080/"
        },
        "id": "QPA6Zy-_EYbk",
        "outputId": "be248b99-f354-407e-d72f-324a02bb5b0e"
      },
      "execution_count": null,
      "outputs": [
        {
          "output_type": "execute_result",
          "data": {
            "text/plain": [
              "[0.10392068792329381,\n",
              " 0.0017210892646876788,\n",
              " 0.014899009499279232,\n",
              " 0.0006486416067406132,\n",
              " 0.003938337314564823]"
            ]
          },
          "metadata": {},
          "execution_count": 107
        }
      ]
    },
    {
      "cell_type": "code",
      "source": [
        "model = ['DecisionTreeRegressor', 'RandomForestRegressor', 'AdaBoostRegressor', 'LinearRegressor', 'KNeighborsRegressor']\n"
      ],
      "metadata": {
        "id": "Um7AVoVp-wjK"
      },
      "execution_count": null,
      "outputs": []
    },
    {
      "cell_type": "code",
      "source": [
        "li = [model, l]\n",
        "li"
      ],
      "metadata": {
        "colab": {
          "base_uri": "https://localhost:8080/"
        },
        "id": "HWiFTweBEpEU",
        "outputId": "065becf6-f8bd-42c0-b2e1-43d9b0758195"
      },
      "execution_count": null,
      "outputs": [
        {
          "output_type": "execute_result",
          "data": {
            "text/plain": [
              "[['DecisionTreeRegressor',\n",
              "  'RandomForestRegressor',\n",
              "  'AdaBoostRegressor',\n",
              "  'LinearRegressor',\n",
              "  'KNeighborsRegressor'],\n",
              " [0.10392068792329381,\n",
              "  0.0017210892646876788,\n",
              "  0.014899009499279232,\n",
              "  0.0006486416067406132,\n",
              "  0.003938337314564823]]"
            ]
          },
          "metadata": {},
          "execution_count": 109
        }
      ]
    },
    {
      "cell_type": "markdown",
      "source": [
        "# **Table**"
      ],
      "metadata": {
        "id": "cQ_L-PY1epb8"
      }
    },
    {
      "cell_type": "code",
      "source": [
        "from tabulate import tabulate\n",
        "\n",
        "print(tabulate({\"Model\": ['DecisionTreeRegressor',\n",
        "  'RandomForestRegressor',\n",
        "  'AdaBoostRegressor',\n",
        "  'LinearRegressor',\n",
        "  'KNeighborsRegressor'],\"MSE\": [0.10392068792329381,\n",
        "  0.0017210892646876788,\n",
        "  0.014899009499279232,\n",
        "  0.0006486416067406132,\n",
        "  0.003938337314564823]}, headers=\"keys\", tablefmt=\"grid\"))"
      ],
      "metadata": {
        "colab": {
          "base_uri": "https://localhost:8080/"
        },
        "id": "cm8AuB_uFeg0",
        "outputId": "f25d627f-0495-46c9-b34c-ea51796a978c"
      },
      "execution_count": null,
      "outputs": [
        {
          "output_type": "stream",
          "name": "stdout",
          "text": [
            "+-----------------------+-------------+\n",
            "| Model                 |         MSE |\n",
            "+=======================+=============+\n",
            "| DecisionTreeRegressor | 0.103921    |\n",
            "+-----------------------+-------------+\n",
            "| RandomForestRegressor | 0.00172109  |\n",
            "+-----------------------+-------------+\n",
            "| AdaBoostRegressor     | 0.014899    |\n",
            "+-----------------------+-------------+\n",
            "| LinearRegressor       | 0.000648642 |\n",
            "+-----------------------+-------------+\n",
            "| KNeighborsRegressor   | 0.00393834  |\n",
            "+-----------------------+-------------+\n"
          ]
        }
      ]
    },
    {
      "cell_type": "markdown",
      "source": [
        ""
      ],
      "metadata": {
        "id": "mGSw7HRGOP3U"
      }
    }
  ]
}